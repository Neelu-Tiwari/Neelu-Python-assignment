{
  "nbformat": 4,
  "nbformat_minor": 0,
  "metadata": {
    "colab": {
      "name": "Python Assignment 2.ipynb",
      "provenance": [],
      "collapsed_sections": []
    },
    "kernelspec": {
      "name": "python3",
      "display_name": "Python 3"
    }
  },
  "cells": [
    {
      "cell_type": "markdown",
      "metadata": {
        "id": "blC75vlsJz1W"
      },
      "source": [
        "**Question 1\r\n",
        "Try 5 Different functions of the String in Python.\r\n",
        "For example - index, split function.**\r\n"
      ]
    },
    {
      "cell_type": "code",
      "metadata": {
        "colab": {
          "base_uri": "https://localhost:8080/"
        },
        "id": "ubnjbf44J_Cg",
        "outputId": "8b255486-8419-43f6-e119-4d4babbbd28b"
      },
      "source": [
        "#creating a string\r\n",
        "string_1 = 'this is my first string, for letsupgrade assignment.'\r\n",
        "print(string_1)"
      ],
      "execution_count": 32,
      "outputs": [
        {
          "output_type": "stream",
          "text": [
            "this is my first string, for letsupgrade assignment.\n"
          ],
          "name": "stdout"
        }
      ]
    },
    {
      "cell_type": "code",
      "metadata": {
        "colab": {
          "base_uri": "https://localhost:8080/"
        },
        "id": "AguMbYiiKjhH",
        "outputId": "9e2689f3-22e5-482a-b2f7-2a0f08f342e9"
      },
      "source": [
        "print(str.upper(string_1))\r\n",
        "#turns the hole string into uppercase."
      ],
      "execution_count": 33,
      "outputs": [
        {
          "output_type": "stream",
          "text": [
            "THIS IS MY FIRST STRING, FOR LETSUPGRADE ASSIGNMENT.\n"
          ],
          "name": "stdout"
        }
      ]
    },
    {
      "cell_type": "code",
      "metadata": {
        "colab": {
          "base_uri": "https://localhost:8080/"
        },
        "id": "SsI7Ht0WLzlv",
        "outputId": "54ace94b-79e8-4645-d98f-9a891e6bef61"
      },
      "source": [
        "#prints the index no. of the first letter of argument given\r\n",
        "print(string_1.index('letsupgrade'))\r\n",
        "print(string_1.index('string'))\r\n",
        "print(string_1.index('assignment'))"
      ],
      "execution_count": 51,
      "outputs": [
        {
          "output_type": "stream",
          "text": [
            "29\n",
            "17\n",
            "41\n"
          ],
          "name": "stdout"
        }
      ]
    },
    {
      "cell_type": "code",
      "metadata": {
        "colab": {
          "base_uri": "https://localhost:8080/"
        },
        "id": "nkdgqKBwMRu_",
        "outputId": "a9137497-e8ee-403c-8c06-b1f93423a4ba"
      },
      "source": [
        "print(string_1.split(','))\r\n",
        "#splits the string from where it finds a comma(,)"
      ],
      "execution_count": 52,
      "outputs": [
        {
          "output_type": "stream",
          "text": [
            "['this is my first string', ' for letsupgrade assignment.']\n"
          ],
          "name": "stdout"
        }
      ]
    },
    {
      "cell_type": "code",
      "metadata": {
        "id": "7yprP0DCMyby"
      },
      "source": [
        ""
      ],
      "execution_count": null,
      "outputs": []
    },
    {
      "cell_type": "code",
      "metadata": {
        "colab": {
          "base_uri": "https://localhost:8080/"
        },
        "id": "FGz183vmMyd3",
        "outputId": "da6b96da-0cff-414a-c724-c950aff639a9"
      },
      "source": [
        "print(str.capitalize(string_1))\r\n",
        "#turns the first letter of the string into uppercase\r\n"
      ],
      "execution_count": 54,
      "outputs": [
        {
          "output_type": "stream",
          "text": [
            "This is my first string, for letsupgrade assignment.\n"
          ],
          "name": "stdout"
        }
      ]
    },
    {
      "cell_type": "code",
      "metadata": {
        "colab": {
          "base_uri": "https://localhost:8080/"
        },
        "id": "0GHf2YIoN9q-",
        "outputId": "621063f0-6ec3-4d32-8c06-410c850c85b1"
      },
      "source": [
        "print(len(string_1))\r\n",
        "#prints the length of the string"
      ],
      "execution_count": 55,
      "outputs": [
        {
          "output_type": "stream",
          "text": [
            "52\n"
          ],
          "name": "stdout"
        }
      ]
    },
    {
      "cell_type": "code",
      "metadata": {
        "colab": {
          "base_uri": "https://localhost:8080/"
        },
        "id": "y0kUeILYOSwg",
        "outputId": "eefe8b1d-e1a3-4330-c4a9-0a8059c83a87"
      },
      "source": [
        "#this slicing function of string\r\n",
        "\r\n",
        "#print the charecter lies between index 10 to 25\r\n",
        "print(string_1[10:25])\r\n",
        "\r\n",
        "#print the charecter till index 25\r\n",
        "print(string_1[:25])\r\n",
        "\r\n",
        "#print all the charecter starting from index 10\r\n",
        "print(string_1[10:])\r\n",
        "\r\n",
        "#print the string by skipping every 2 character\r\n",
        "print(string_1[::2])"
      ],
      "execution_count": 57,
      "outputs": [
        {
          "output_type": "stream",
          "text": [
            " first string, \n",
            "this is my first string, \n",
            " first string, for letsupgrade assignment.\n",
            "ti sm is tig o esprd sinet\n"
          ],
          "name": "stdout"
        }
      ]
    },
    {
      "cell_type": "markdown",
      "metadata": {
        "id": "u3VluP5bQMZC"
      },
      "source": [
        "**Question 2\r\n",
        "Try 5 Different functions of the List object in Python**"
      ]
    },
    {
      "cell_type": "code",
      "metadata": {
        "colab": {
          "base_uri": "https://localhost:8080/"
        },
        "id": "siovCONHQQkx",
        "outputId": "cec960b5-6d20-4f02-da3c-d8b95f58fa8f"
      },
      "source": [
        "#creating the list \r\n",
        "lst = [1, 2, 'apple', 'ball', 4+5j, 'true']\r\n",
        "lst"
      ],
      "execution_count": 112,
      "outputs": [
        {
          "output_type": "execute_result",
          "data": {
            "text/plain": [
              "[1, 2, 'apple', 'ball', (4+5j), 'true']"
            ]
          },
          "metadata": {
            "tags": []
          },
          "execution_count": 112
        }
      ]
    },
    {
      "cell_type": "code",
      "metadata": {
        "colab": {
          "base_uri": "https://localhost:8080/"
        },
        "id": "HPRzxvp8RYFu",
        "outputId": "febcf6e6-0809-48f7-c211-25b6da35cd03"
      },
      "source": [
        "#reverse a list\r\n",
        "list.reverse(lst)\r\n",
        "print(lst)"
      ],
      "execution_count": 113,
      "outputs": [
        {
          "output_type": "stream",
          "text": [
            "['true', (4+5j), 'ball', 'apple', 2, 1]\n"
          ],
          "name": "stdout"
        }
      ]
    },
    {
      "cell_type": "code",
      "metadata": {
        "colab": {
          "base_uri": "https://localhost:8080/"
        },
        "id": "sbVNd_JXRYJ2",
        "outputId": "3470be28-8b81-44c1-e54b-af0f35137e2e"
      },
      "source": [
        "#adding an element in the list\r\n",
        "lst.append('letsupgrade')\r\n",
        "print(lst)"
      ],
      "execution_count": 114,
      "outputs": [
        {
          "output_type": "stream",
          "text": [
            "['true', (4+5j), 'ball', 'apple', 2, 1, 'letsupgrade']\n"
          ],
          "name": "stdout"
        }
      ]
    },
    {
      "cell_type": "code",
      "metadata": {
        "colab": {
          "base_uri": "https://localhost:8080/"
        },
        "id": "zBsfNl86SBM4",
        "outputId": "62b36679-df61-45a3-dd0f-1c9aadf8bf12"
      },
      "source": [
        "#remove an element from the list\r\n",
        "lst.remove((4+5j))\r\n",
        "print(lst)"
      ],
      "execution_count": 115,
      "outputs": [
        {
          "output_type": "stream",
          "text": [
            "['true', 'ball', 'apple', 2, 1, 'letsupgrade']\n"
          ],
          "name": "stdout"
        }
      ]
    },
    {
      "cell_type": "code",
      "metadata": {
        "colab": {
          "base_uri": "https://localhost:8080/"
        },
        "id": "MzTsM8AVTwZ6",
        "outputId": "9e2b2524-533d-4f32-ae72-e6cb07603bc0"
      },
      "source": [
        "#sorts the list item in acsending order or in alphabatical order\r\n",
        "lst_1 = [1, 78, 63, 12, 52, 45, 0, 8]\r\n",
        "lst_1.sort()\r\n",
        "print(lst_1)\r\n",
        "\r\n",
        "lst_2 = ['ball', 'fish', 'apple', 'cat', 'egg', 'dog']\r\n",
        "lst_2.sort()\r\n",
        "print(lst_2)\r\n"
      ],
      "execution_count": 124,
      "outputs": [
        {
          "output_type": "stream",
          "text": [
            "[0, 1, 8, 12, 45, 52, 63, 78]\n",
            "['apple', 'ball', 'cat', 'dog', 'egg', 'fish']\n"
          ],
          "name": "stdout"
        }
      ]
    },
    {
      "cell_type": "code",
      "metadata": {
        "colab": {
          "base_uri": "https://localhost:8080/"
        },
        "id": "qnLv5srhT5bp",
        "outputId": "6029e1e1-46e4-4663-f3a5-8c915e551233"
      },
      "source": [
        "lst_2.index('dog')\r\n",
        "#returns the index of the element"
      ],
      "execution_count": 130,
      "outputs": [
        {
          "output_type": "execute_result",
          "data": {
            "text/plain": [
              "3"
            ]
          },
          "metadata": {
            "tags": []
          },
          "execution_count": 130
        }
      ]
    },
    {
      "cell_type": "markdown",
      "metadata": {
        "id": "NNveWmFKVZl8"
      },
      "source": [
        "**Question 3\r\n",
        "Experiment with at least 5 default functions of Dictionary**"
      ]
    },
    {
      "cell_type": "code",
      "metadata": {
        "colab": {
          "base_uri": "https://localhost:8080/"
        },
        "id": "tbVhR3uNWvwB",
        "outputId": "e4d71ee3-cfcf-4997-cc2e-971cc8c13698"
      },
      "source": [
        "#creating a dictionary \r\n",
        "student = {'Name':'Rahul Sharma', 'Roll no.': 1045, 'Total Marks': 600, 'Marks Obtained': 515, 'Rank': 2}\r\n",
        "student"
      ],
      "execution_count": 135,
      "outputs": [
        {
          "output_type": "execute_result",
          "data": {
            "text/plain": [
              "{'Marks Obtained': 515,\n",
              " 'Name': 'Rahul Sharma',\n",
              " 'Rank': 2,\n",
              " 'Roll no.': 1045,\n",
              " 'Total Marks': 600}"
            ]
          },
          "metadata": {
            "tags": []
          },
          "execution_count": 135
        }
      ]
    },
    {
      "cell_type": "code",
      "metadata": {
        "colab": {
          "base_uri": "https://localhost:8080/"
        },
        "id": "JgItcN1rWvy3",
        "outputId": "414c8fa7-e3a0-4ac1-a772-e9185722fd9b"
      },
      "source": [
        "print(student.keys())"
      ],
      "execution_count": 137,
      "outputs": [
        {
          "output_type": "stream",
          "text": [
            "dict_keys(['Name', 'Roll no.', 'Total Marks', 'Marks Obtained', 'Rank'])\n"
          ],
          "name": "stdout"
        }
      ]
    },
    {
      "cell_type": "code",
      "metadata": {
        "colab": {
          "base_uri": "https://localhost:8080/"
        },
        "id": "TWzSFRyDWv1W",
        "outputId": "2eea09ca-6f96-438a-fea9-3542a0fb1a72"
      },
      "source": [
        "print(student.values())"
      ],
      "execution_count": 138,
      "outputs": [
        {
          "output_type": "stream",
          "text": [
            "dict_values(['Rahul Sharma', 1045, 600, 515, 2])\n"
          ],
          "name": "stdout"
        }
      ]
    },
    {
      "cell_type": "code",
      "metadata": {
        "id": "Ty5XOxPMX8RK"
      },
      "source": [
        ""
      ],
      "execution_count": null,
      "outputs": []
    },
    {
      "cell_type": "code",
      "metadata": {
        "colab": {
          "base_uri": "https://localhost:8080/"
        },
        "id": "xjQFoEefX8Uw",
        "outputId": "02998e03-ec92-4168-9f71-0c88d5c44e57"
      },
      "source": [
        "print(student.get('Marks Obtained'))"
      ],
      "execution_count": 140,
      "outputs": [
        {
          "output_type": "stream",
          "text": [
            "515\n"
          ],
          "name": "stdout"
        }
      ]
    },
    {
      "cell_type": "code",
      "metadata": {
        "colab": {
          "base_uri": "https://localhost:8080/"
        },
        "id": "IX5ekZRdYLiR",
        "outputId": "140ca983-9c70-46ee-eb26-708e723755dc"
      },
      "source": [
        "student.update({'Class': 10})\r\n",
        "student"
      ],
      "execution_count": 145,
      "outputs": [
        {
          "output_type": "execute_result",
          "data": {
            "text/plain": [
              "{'Class': 10,\n",
              " 'Marks Obtained': 515,\n",
              " 'Name': 'Rahul Sharma',\n",
              " 'Rank': 2,\n",
              " 'Roll no.': 1045,\n",
              " 'Total Marks': 600}"
            ]
          },
          "metadata": {
            "tags": []
          },
          "execution_count": 145
        }
      ]
    },
    {
      "cell_type": "code",
      "metadata": {
        "colab": {
          "base_uri": "https://localhost:8080/"
        },
        "id": "bNynrrHWYLkt",
        "outputId": "0ed6b9ca-efda-4abe-a10e-e09245f2a2ac"
      },
      "source": [
        "student.items()"
      ],
      "execution_count": 147,
      "outputs": [
        {
          "output_type": "execute_result",
          "data": {
            "text/plain": [
              "dict_items([('Name', 'Rahul Sharma'), ('Roll no.', 1045), ('Total Marks', 600), ('Marks Obtained', 515), ('Rank', 2), ('Class', 10)])"
            ]
          },
          "metadata": {
            "tags": []
          },
          "execution_count": 147
        }
      ]
    },
    {
      "cell_type": "code",
      "metadata": {
        "colab": {
          "base_uri": "https://localhost:8080/"
        },
        "id": "LEakp2qqYwXY",
        "outputId": "98be646f-4a6a-4b48-a357-b1eee7e34296"
      },
      "source": [
        "student.copy()"
      ],
      "execution_count": 148,
      "outputs": [
        {
          "output_type": "execute_result",
          "data": {
            "text/plain": [
              "{'Class': 10,\n",
              " 'Marks Obtained': 515,\n",
              " 'Name': 'Rahul Sharma',\n",
              " 'Rank': 2,\n",
              " 'Roll no.': 1045,\n",
              " 'Total Marks': 600}"
            ]
          },
          "metadata": {
            "tags": []
          },
          "execution_count": 148
        }
      ]
    }
  ]
}