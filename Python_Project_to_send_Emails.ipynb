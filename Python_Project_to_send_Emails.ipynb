{
  "nbformat": 4,
  "nbformat_minor": 0,
  "metadata": {
    "colab": {
      "name": "Python Project to send Emails.ipynb",
      "provenance": []
    },
    "kernelspec": {
      "name": "python3",
      "display_name": "Python 3"
    }
  },
  "cells": [
    {
      "cell_type": "code",
      "metadata": {
        "colab": {
          "base_uri": "https://localhost:8080/"
        },
        "id": "Q5PfjJ7uCQX6",
        "outputId": "1009b4b1-de81-49e0-f99a-8c7339844d13"
      },
      "source": [
        "!pip install emails"
      ],
      "execution_count": 1,
      "outputs": [
        {
          "output_type": "stream",
          "text": [
            "Collecting emails\n",
            "\u001b[?25l  Downloading https://files.pythonhosted.org/packages/55/7e/b648d640d88d31de49e566832aca9cce025c52d6349b0a0fc65e9df1f4c5/emails-0.6-py2.py3-none-any.whl (56kB)\n",
            "\r\u001b[K     |█████▉                          | 10kB 13.0MB/s eta 0:00:01\r\u001b[K     |███████████▋                    | 20kB 17.6MB/s eta 0:00:01\r\u001b[K     |█████████████████▌              | 30kB 9.6MB/s eta 0:00:01\r\u001b[K     |███████████████████████▎        | 40kB 7.9MB/s eta 0:00:01\r\u001b[K     |█████████████████████████████▏  | 51kB 4.3MB/s eta 0:00:01\r\u001b[K     |████████████████████████████████| 61kB 3.1MB/s \n",
            "\u001b[?25hRequirement already satisfied: lxml in /usr/local/lib/python3.6/dist-packages (from emails) (4.2.6)\n",
            "Requirement already satisfied: requests in /usr/local/lib/python3.6/dist-packages (from emails) (2.23.0)\n",
            "Requirement already satisfied: python-dateutil in /usr/local/lib/python3.6/dist-packages (from emails) (2.8.1)\n",
            "Requirement already satisfied: chardet in /usr/local/lib/python3.6/dist-packages (from emails) (3.0.4)\n",
            "Collecting premailer\n",
            "  Downloading https://files.pythonhosted.org/packages/cd/ce/74bbdf0eee4265fd3f161d4276b36c9238b802191c2053c8e68578bda4e6/premailer-3.7.0-py2.py3-none-any.whl\n",
            "Collecting cssutils\n",
            "\u001b[?25l  Downloading https://files.pythonhosted.org/packages/6b/15/a9fb9010f58d1c55dd0b7779db2334feb9a572d407024f39a60f44293861/cssutils-1.0.2-py3-none-any.whl (406kB)\n",
            "\u001b[K     |████████████████████████████████| 409kB 6.5MB/s \n",
            "\u001b[?25hRequirement already satisfied: certifi>=2017.4.17 in /usr/local/lib/python3.6/dist-packages (from requests->emails) (2020.12.5)\n",
            "Requirement already satisfied: idna<3,>=2.5 in /usr/local/lib/python3.6/dist-packages (from requests->emails) (2.10)\n",
            "Requirement already satisfied: urllib3!=1.25.0,!=1.25.1,<1.26,>=1.21.1 in /usr/local/lib/python3.6/dist-packages (from requests->emails) (1.24.3)\n",
            "Requirement already satisfied: six>=1.5 in /usr/local/lib/python3.6/dist-packages (from python-dateutil->emails) (1.15.0)\n",
            "Requirement already satisfied: cachetools in /usr/local/lib/python3.6/dist-packages (from premailer->emails) (4.1.1)\n",
            "Collecting cssselect\n",
            "  Downloading https://files.pythonhosted.org/packages/3b/d4/3b5c17f00cce85b9a1e6f91096e1cc8e8ede2e1be8e96b87ce1ed09e92c5/cssselect-1.1.0-py2.py3-none-any.whl\n",
            "Installing collected packages: cssutils, cssselect, premailer, emails\n",
            "Successfully installed cssselect-1.1.0 cssutils-1.0.2 emails-0.6 premailer-3.7.0\n"
          ],
          "name": "stdout"
        }
      ]
    },
    {
      "cell_type": "code",
      "metadata": {
        "id": "dqR0oCBTCrSt"
      },
      "source": [
        "import emails"
      ],
      "execution_count": 2,
      "outputs": []
    },
    {
      "cell_type": "code",
      "metadata": {
        "id": "ONdMkv2dCx88"
      },
      "source": [
        "html_text = '''<p><span style=\"font-family: Courier New, courier;\"><span style=\"background-color: rgb(247, 218, 100);\">HEY Rowdy,</span>&nbsp;</span></p>\r\n",
        "<p><span style=\"font-family: Courier New, courier;\"><br></span></p>\r\n",
        "<p><span style=\"font-family: Courier New, courier;\">How are you this is SAIKIRAN FROM LEtsUpgrade,&nbsp;</span></p>\r\n",
        "<p><span style=\"font-family: Courier New, courier;\">Cheif Rowdy at LU !!</span></p>\r\n",
        "<p><span style=\"font-family: Courier New, courier;\">Love teaching you all, hope you like this project&nbsp;</span></p>\r\n",
        "<p><span style=\"font-family: Courier New, courier;\"><br></span></p>\r\n",
        "<p><span style=\"font-family: Courier New, courier;\">Regards,&nbsp;</span></p>\r\n",
        "<p><strong><span style=\"font-family: Courier New, courier;\">Cheif Rowdy,</span></strong></p>\r\n",
        "<p><span style=\"font-family: Courier New, courier;\"><strong>Saikiran Sondarkar</strong></span></p>'''\r\n",
        "\r\n",
        "\r\n",
        "message = emails.html(html=html_text,\r\n",
        "                          subject=\"Your EMAIL FROM PYTHON SCRIPT\",\r\n",
        "                          mail_from=('Rowdy LetsUpgrade', 'sai@xyz.com'))\r\n"
      ],
      "execution_count": 3,
      "outputs": []
    },
    {
      "cell_type": "code",
      "metadata": {
        "id": "J7l7PidLC0eY"
      },
      "source": [
        "mail_via_python = message.send(to='yepix89216@cctyoo.com', \r\n",
        "                               smtp={'host': 'smtp.gmail.com', \r\n",
        "                                     'timeout': 5,\r\n",
        "                                    'port':587,\r\n",
        "                                    'user':'YOUREMAIL@REQUIRED>COM',\r\n",
        "                                    'password':'YourPassWordREquired',\r\n",
        "                                    'tls':True})\r\n"
      ],
      "execution_count": 11,
      "outputs": []
    },
    {
      "cell_type": "code",
      "metadata": {
        "colab": {
          "base_uri": "https://localhost:8080/"
        },
        "id": "z9jvrZcBC8fd",
        "outputId": "9cd7c651-3828-457c-c1d8-c88e3f0bf468"
      },
      "source": [
        "mail_via_python\r\n"
      ],
      "execution_count": 13,
      "outputs": [
        {
          "output_type": "execute_result",
          "data": {
            "text/plain": [
              "<emails.backend.SMTPResponse status_code=None status_text=None>"
            ]
          },
          "metadata": {
            "tags": []
          },
          "execution_count": 13
        }
      ]
    },
    {
      "cell_type": "code",
      "metadata": {
        "id": "tdkRctgcDBGY"
      },
      "source": [
        "def sendMail(email, name):\r\n",
        "    \r\n",
        "    html_text = '''<p><span style=\"font-family: Courier New, courier;\"><span style=\"background-color: rgb(247, 218, 100);\">HEY Rowdy,'''+ name+'''</span>&nbsp;</span></p>\r\n",
        "                <p><span style=\"font-family: Courier New, courier;\"><br></span></p>\r\n",
        "                <p><span style=\"font-family: Courier New, courier;\">How are you this is SAIKIRAN FROM LEtsUpgrade,&nbsp;</span></p>\r\n",
        "                <p><span style=\"font-family: Courier New, courier;\">Cheif Rowdy at LU !!</span></p>\r\n",
        "                <p><span style=\"font-family: Courier New, courier;\">Love teaching you all, hope you like this project&nbsp;</span></p>\r\n",
        "                <p><span style=\"font-family: Courier New, courier;\"><br></span></p>\r\n",
        "                <p><span style=\"font-family: Courier New, courier;\">Regards,&nbsp;</span></p>\r\n",
        "                <p><strong><span style=\"font-family: Courier New, courier;\">Cheif Rowdy,</span></strong></p>\r\n",
        "                <p><span style=\"font-family: Courier New, courier;\"><strong>Saikiran Sondarkar</strong></span></p>'''\r\n",
        "\r\n",
        "    subject = \"Hey Rowdy \"+ name + \", you have EMAIL FROM LetsUpgrade\"\r\n",
        "    message = emails.html(html=html_text,\r\n",
        "                          subject=subject,\r\n",
        "                          mail_from=('Rowdy LetsUpgrade', 'sai@xyz.com'))\r\n",
        "\r\n",
        "    \r\n",
        "    mail_via_python = message.send(to=email, \r\n",
        "                               smtp={'host': 'smtp.gmail.com', \r\n",
        "                                     'timeout': 5,\r\n",
        "                                    'port':587,\r\n",
        "                                    'user':'YOUREMAIL@REQUIRED>COM',\r\n",
        "                                    'password':'YourPassWordREquired',\r\n",
        "                                    'tls':True})\r\n",
        "    return mail_via_python.status_code"
      ],
      "execution_count": 14,
      "outputs": []
    },
    {
      "cell_type": "code",
      "metadata": {
        "id": "pBT-QtE2DFoC"
      },
      "source": [
        "sendMail(\"yepix89216@cctyoo.com\",\"Sai\")"
      ],
      "execution_count": 15,
      "outputs": []
    }
  ]
}