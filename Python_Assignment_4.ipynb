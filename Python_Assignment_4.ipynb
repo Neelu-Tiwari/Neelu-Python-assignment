{
  "nbformat": 4,
  "nbformat_minor": 0,
  "metadata": {
    "colab": {
      "name": "Python_Assignment 4.ipynb",
      "provenance": [],
      "collapsed_sections": []
    },
    "kernelspec": {
      "name": "python3",
      "display_name": "Python 3"
    }
  },
  "cells": [
    {
      "cell_type": "markdown",
      "metadata": {
        "id": "09NnvY7ixwmK"
      },
      "source": [
        "**Question 1**\r\n",
        "**Write down a program in Python for Opening a File and Writing \" I Love LetsUpgrade\" And close\r\n",
        "it, and read it back again, and then append some data to it and close it.**"
      ]
    },
    {
      "cell_type": "code",
      "metadata": {
        "colab": {
          "base_uri": "https://localhost:8080/"
        },
        "id": "nUzNifwPx4wp",
        "outputId": "3a60a53e-f0db-43c3-b370-3b7e0f587bb8"
      },
      "source": [
        "xyz = open('test.txt', 'r+')\r\n",
        "xyz.write('i love letsupgrade.')\r\n"
      ],
      "execution_count": 114,
      "outputs": [
        {
          "output_type": "execute_result",
          "data": {
            "text/plain": [
              "19"
            ]
          },
          "metadata": {
            "tags": []
          },
          "execution_count": 114
        }
      ]
    },
    {
      "cell_type": "code",
      "metadata": {
        "colab": {
          "base_uri": "https://localhost:8080/"
        },
        "id": "2UnKG-Vx1lbe",
        "outputId": "320775d4-653b-4b87-bcb3-3e519fa4539b"
      },
      "source": [
        "print(xyz.read())\r\n"
      ],
      "execution_count": 115,
      "outputs": [
        {
          "output_type": "stream",
          "text": [
            "lets learn python programming with letsupgrade.lets learn python programming with letsupgrade.lets learn python programming with letsupgrade.lets learn python programming with letsupgrade.lets learn python programming with letsupgrade.lets learn python programming with letsupgrade.\n"
          ],
          "name": "stdout"
        }
      ]
    },
    {
      "cell_type": "code",
      "metadata": {
        "colab": {
          "base_uri": "https://localhost:8080/"
        },
        "id": "ChkEX2ln2Bdv",
        "outputId": "9001229c-f70b-4db1-dcc6-67d0f8c0910f"
      },
      "source": [
        "xyz.write('lets learn python programming with letsupgrade.')\r\n",
        "print(xyz.read())\r\n",
        "xyz.close()\r\n"
      ],
      "execution_count": 116,
      "outputs": [
        {
          "output_type": "stream",
          "text": [
            "\n"
          ],
          "name": "stdout"
        }
      ]
    },
    {
      "cell_type": "markdown",
      "metadata": {
        "id": "M9y-6vnq2rD8"
      },
      "source": [
        "**Question 2**\r\n",
        "**Write a function which can return a Factorial of any numbers as INT, given in the argument**"
      ]
    },
    {
      "cell_type": "code",
      "metadata": {
        "colab": {
          "base_uri": "https://localhost:8080/"
        },
        "id": "wv2q_OcT2zHa",
        "outputId": "cc93a234-30a0-415b-bd8e-b4a9444934ac"
      },
      "source": [
        "def factorial(n):\r\n",
        "  if n == 0:\r\n",
        "    return 1\r\n",
        "  else:\r\n",
        "    return n * factorial(n-1)\r\n",
        "n = int(input())\r\n",
        "print(factorial(n))\r\n",
        "   "
      ],
      "execution_count": 96,
      "outputs": [
        {
          "output_type": "stream",
          "text": [
            "6\n",
            "720\n"
          ],
          "name": "stdout"
        }
      ]
    }
  ]
}