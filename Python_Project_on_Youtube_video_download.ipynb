{
  "nbformat": 4,
  "nbformat_minor": 0,
  "metadata": {
    "colab": {
      "name": "Python Project on Youtube video download",
      "provenance": [],
      "collapsed_sections": []
    },
    "kernelspec": {
      "name": "python3",
      "display_name": "Python 3"
    }
  },
  "cells": [
    {
      "cell_type": "code",
      "metadata": {
        "colab": {
          "base_uri": "https://localhost:8080/"
        },
        "id": "JXqds62qPbiA",
        "outputId": "1dcd0030-ae39-43c0-807d-f302f16a2ad6"
      },
      "source": [
        "!pip install pytube3"
      ],
      "execution_count": 8,
      "outputs": [
        {
          "output_type": "stream",
          "text": [
            "Collecting pytube3\n",
            "  Downloading https://files.pythonhosted.org/packages/de/86/198092763646eac7abd2063192ab44ea44ad8fd6d6f3ad8586b38afcd52a/pytube3-9.6.4-py3-none-any.whl\n",
            "Requirement already satisfied: typing-extensions in /usr/local/lib/python3.6/dist-packages (from pytube3) (3.7.4.3)\n",
            "Installing collected packages: pytube3\n",
            "Successfully installed pytube3-9.6.4\n"
          ],
          "name": "stdout"
        }
      ]
    },
    {
      "cell_type": "code",
      "metadata": {
        "id": "bKzzO_5wQ84Z"
      },
      "source": [
        "from pytube import YouTube\r\n",
        "import os\r\n",
        "from tkinter import *\r\n",
        "\r\n",
        "root=Tk()\r\n",
        "root.geometry('600x200')\r\n",
        "root.title('Youtube Video Downloader')\r\n",
        "\r\n",
        "\r\n",
        "Label_1=Label(root,text=\"Paste The Youtube Link Here\", font=(\"bold\",20))\r\n",
        "Label_1.place(x=120,y=20)\r\n",
        "\r\n",
        "\r\n",
        "mylink=StringVar()\r\n",
        "\r\n",
        "pastelink=Entry(root, width=60, textvariable=mylink)\r\n",
        "pastelink.place(x=140, y=80)\r\n",
        "\r\n",
        "#link=\"https://www.youtube.com/watch?v=0NV1KdWRHck\"\r\n",
        "\r\n",
        "def downloadVideo():\r\n",
        "    x=str(mylink.get())\r\n",
        "    ytvideo=YouTube(x).streams.filter(progressive=True, file_extension='mp4').order_by('resolution').desc().first()\r\n",
        "    if not os.path.exists('F:/letsupgrade'):\r\n",
        "        os.makedirs('F:/Letsupgrade')\r\n",
        "    ytvideo.download('F:/Letsupgrade') \r\n",
        "\r\n",
        "Button(root,text=\"Download Video\", width=20, bg='green',fg=\"white\", command=downloadVideo).place(x=220, y=110)\r\n",
        "\r\n",
        "root.mainloop()"
      ],
      "execution_count": null,
      "outputs": []
    }
  ]
}