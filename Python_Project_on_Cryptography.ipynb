{
  "nbformat": 4,
  "nbformat_minor": 0,
  "metadata": {
    "colab": {
      "name": "Python Project on Cryptography",
      "provenance": []
    },
    "kernelspec": {
      "name": "python3",
      "display_name": "Python 3"
    }
  },
  "cells": [
    {
      "cell_type": "markdown",
      "metadata": {
        "id": "RbKYVprK18Qg"
      },
      "source": [
        "## Write a Python Program which converts, Any Given Text to Cipher Text and whenever the key is avalible it should convert it back to the Normal Message."
      ]
    },
    {
      "cell_type": "code",
      "metadata": {
        "colab": {
          "base_uri": "https://localhost:8080/"
        },
        "id": "LSP20hlx19ko",
        "outputId": "9015d146-0025-4ac8-c6de-5e52ddbede96"
      },
      "source": [
        "!pip install cryptography"
      ],
      "execution_count": 14,
      "outputs": [
        {
          "output_type": "stream",
          "text": [
            "Requirement already satisfied: cryptography in /usr/local/lib/python3.6/dist-packages (3.3.1)\n",
            "Requirement already satisfied: cffi>=1.12 in /usr/local/lib/python3.6/dist-packages (from cryptography) (1.14.4)\n",
            "Requirement already satisfied: six>=1.4.1 in /usr/local/lib/python3.6/dist-packages (from cryptography) (1.15.0)\n",
            "Requirement already satisfied: pycparser in /usr/local/lib/python3.6/dist-packages (from cffi>=1.12->cryptography) (2.20)\n"
          ],
          "name": "stdout"
        }
      ]
    },
    {
      "cell_type": "code",
      "metadata": {
        "id": "Hd0L47di19vk"
      },
      "source": [
        "from cryptography.fernet import Fernet"
      ],
      "execution_count": 15,
      "outputs": []
    },
    {
      "cell_type": "code",
      "metadata": {
        "id": "rzzRyLUg2OyC"
      },
      "source": [
        "def generatePassKey():\r\n",
        "  key = Fernet.generate_key()\r\n",
        "  print(key)\r\n",
        "  print(type(key))\r\n",
        "  key_file = open('PasswordKey.key', 'wb')\r\n",
        "  key_file.write(key)\r\n",
        "  key_file.close()"
      ],
      "execution_count": 18,
      "outputs": []
    },
    {
      "cell_type": "code",
      "metadata": {
        "colab": {
          "base_uri": "https://localhost:8080/"
        },
        "id": "IhOPu_fs2-FH",
        "outputId": "8470dee3-6cab-490a-8724-e0a1183cb268"
      },
      "source": [
        "generatePassKey()"
      ],
      "execution_count": 19,
      "outputs": [
        {
          "output_type": "stream",
          "text": [
            "b'OezZdBA_UWY8zd0efmQ72Qc0m9mNTQcmVUDNtinbyOU='\n",
            "<class 'bytes'>\n"
          ],
          "name": "stdout"
        }
      ]
    },
    {
      "cell_type": "code",
      "metadata": {
        "id": "6e4-BHT53Q4c"
      },
      "source": [
        "def getMyKey():\r\n",
        "  key_file = open('PasswordKey.key', 'rb')\r\n",
        "  return key_file.read()"
      ],
      "execution_count": 20,
      "outputs": []
    },
    {
      "cell_type": "code",
      "metadata": {
        "colab": {
          "base_uri": "https://localhost:8080/"
        },
        "id": "wHA-d3de3h5g",
        "outputId": "44110612-758c-4a74-ad3e-da571876fe7a"
      },
      "source": [
        "getMyKey()"
      ],
      "execution_count": 22,
      "outputs": [
        {
          "output_type": "execute_result",
          "data": {
            "text/plain": [
              "b'OezZdBA_UWY8zd0efmQ72Qc0m9mNTQcmVUDNtinbyOU='"
            ]
          },
          "metadata": {
            "tags": []
          },
          "execution_count": 22
        }
      ]
    },
    {
      "cell_type": "code",
      "metadata": {
        "id": "_n7Qe_L03oFn"
      },
      "source": [
        "def getContentFromUser():\r\n",
        "  message_normal = 'Enter the message you want to encrypt:'\r\n",
        "  return message_normal\r\n"
      ],
      "execution_count": 44,
      "outputs": []
    },
    {
      "cell_type": "code",
      "metadata": {
        "colab": {
          "base_uri": "https://localhost:8080/",
          "height": 35
        },
        "id": "byemL9aV33n1",
        "outputId": "3f609e2a-d375-4891-9596-64c384a27cd4"
      },
      "source": [
        "getContentFromUser()"
      ],
      "execution_count": 45,
      "outputs": [
        {
          "output_type": "execute_result",
          "data": {
            "application/vnd.google.colaboratory.intrinsic+json": {
              "type": "string"
            },
            "text/plain": [
              "'Enter the message you want to encrypt:'"
            ]
          },
          "metadata": {
            "tags": []
          },
          "execution_count": 45
        }
      ]
    },
    {
      "cell_type": "code",
      "metadata": {
        "id": "Wyofu1U-4AVF"
      },
      "source": [
        "def encryptMessage(message_normal):\r\n",
        "    message_normal = 'the message you want to encrypt'\r\n",
        "    key = getMyKey()\r\n",
        "    k = Fernet(key)\r\n",
        "    encrypted_Message = k.encrypt(message_normal)\r\n",
        "    return encrypted_Message"
      ],
      "execution_count": 68,
      "outputs": []
    },
    {
      "cell_type": "code",
      "metadata": {
        "id": "LY0RmCIh5qWk"
      },
      "source": [
        "encryptMessage(message_normal)"
      ],
      "execution_count": null,
      "outputs": []
    },
    {
      "cell_type": "code",
      "metadata": {
        "id": "yhccld5h5jWn"
      },
      "source": [
        "def decryptMessage(message_secret):\r\n",
        "    key = getMyKey()\r\n",
        "    k = Fernet(key)\r\n",
        "    decrypted_Message = k.decrypt(message_secret)\r\n",
        "    return decrypted_Message"
      ],
      "execution_count": 70,
      "outputs": []
    },
    {
      "cell_type": "code",
      "metadata": {
        "colab": {
          "base_uri": "https://localhost:8080/",
          "height": 129
        },
        "id": "yWirPqix9Ar3",
        "outputId": "d05ad0b8-09be-43ac-d1d9-a0907364c7e2"
      },
      "source": [
        "decryptMessage(b 'OezZdBA_UWY8zd0efmQ72Qc0m9mNTQcmVUDNtinbyOU=')"
      ],
      "execution_count": 77,
      "outputs": [
        {
          "output_type": "error",
          "ename": "SyntaxError",
          "evalue": "ignored",
          "traceback": [
            "\u001b[0;36m  File \u001b[0;32m\"<ipython-input-77-f7628293e6b0>\"\u001b[0;36m, line \u001b[0;32m1\u001b[0m\n\u001b[0;31m    decryptMessage(b 'OezZdBA_UWY8zd0efmQ72Qc0m9mNTQcmVUDNtinbyOU=')\u001b[0m\n\u001b[0m                                                                  ^\u001b[0m\n\u001b[0;31mSyntaxError\u001b[0m\u001b[0;31m:\u001b[0m invalid syntax\n"
          ]
        }
      ]
    }
  ]
}