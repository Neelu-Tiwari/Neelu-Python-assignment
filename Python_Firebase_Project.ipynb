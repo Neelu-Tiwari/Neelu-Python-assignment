{
  "nbformat": 4,
  "nbformat_minor": 0,
  "metadata": {
    "colab": {
      "name": "Python Firebase Project.ipynb",
      "provenance": [],
      "collapsed_sections": []
    },
    "kernelspec": {
      "name": "python3",
      "display_name": "Python 3"
    }
  },
  "cells": [
    {
      "cell_type": "code",
      "metadata": {
        "colab": {
          "base_uri": "https://localhost:8080/"
        },
        "id": "t9xVW_aoSLr4",
        "outputId": "1f652416-8130-4574-aca2-9ec1db6d7893"
      },
      "source": [
        "!pip install firebase"
      ],
      "execution_count": 4,
      "outputs": [
        {
          "output_type": "stream",
          "text": [
            "Requirement already satisfied: firebase in /usr/local/lib/python3.6/dist-packages (3.0.1)\n",
            "Requirement already satisfied: requests in /usr/local/lib/python3.6/dist-packages (from firebase) (2.23.0)\n",
            "Requirement already satisfied: chardet<4,>=3.0.2 in /usr/local/lib/python3.6/dist-packages (from requests->firebase) (3.0.4)\n",
            "Requirement already satisfied: urllib3!=1.25.0,!=1.25.1,<1.26,>=1.21.1 in /usr/local/lib/python3.6/dist-packages (from requests->firebase) (1.24.3)\n",
            "Requirement already satisfied: certifi>=2017.4.17 in /usr/local/lib/python3.6/dist-packages (from requests->firebase) (2020.12.5)\n",
            "Requirement already satisfied: idna<3,>=2.5 in /usr/local/lib/python3.6/dist-packages (from requests->firebase) (2.10)\n"
          ],
          "name": "stdout"
        }
      ]
    },
    {
      "cell_type": "code",
      "metadata": {
        "id": "-AI0XWouS0B1"
      },
      "source": [
        "import firebase_admin"
      ],
      "execution_count": 5,
      "outputs": []
    },
    {
      "cell_type": "code",
      "metadata": {
        "id": "9aR_Gx55S3Eg"
      },
      "source": [
        "from firebase_admin import credentials\r\n",
        "from firebase_admin import firestore"
      ],
      "execution_count": 7,
      "outputs": []
    },
    {
      "cell_type": "code",
      "metadata": {
        "colab": {
          "base_uri": "https://localhost:8080/"
        },
        "id": "qqPmrmM6S53t",
        "outputId": "77c052c7-1ba2-4c68-b1df-8e35031e2f29"
      },
      "source": [
        "\r\n",
        "import firebase_admin\r\n",
        "from firebase_admin import credentials\r\n",
        "\r\n",
        "cred = credentials.Certificate(\"/content/for-python-project-firebase-adminsdk-r5pvu-7c0efcd48d.json\")\r\n",
        "firebase_admin.initialize_app(cred)\r\n"
      ],
      "execution_count": 9,
      "outputs": [
        {
          "output_type": "execute_result",
          "data": {
            "text/plain": [
              "<firebase_admin.App at 0x7f935793aa58>"
            ]
          },
          "metadata": {
            "tags": []
          },
          "execution_count": 9
        }
      ]
    },
    {
      "cell_type": "code",
      "metadata": {
        "id": "tzZfPSHJa3qf"
      },
      "source": [
        "db = firestore.client()\r\n"
      ],
      "execution_count": 10,
      "outputs": []
    },
    {
      "cell_type": "code",
      "metadata": {
        "colab": {
          "base_uri": "https://localhost:8080/"
        },
        "id": "EgminGOOa3u_",
        "outputId": "cc2c78bd-4ab1-42bb-c0b2-0936e46e1f2e"
      },
      "source": [
        "doc_ref = db.collection(u'users').document(u'data')\r\n",
        "doc_ref.set({\r\n",
        "    u'first': u'Triveni',\r\n",
        "    u'last': u'Sharma',\r\n",
        "    u'born': 1999\r\n",
        "})\r\n",
        "  "
      ],
      "execution_count": 11,
      "outputs": [
        {
          "output_type": "execute_result",
          "data": {
            "text/plain": [
              "update_time {\n",
              "  seconds: 1608388561\n",
              "  nanos: 126583000\n",
              "}"
            ]
          },
          "metadata": {
            "tags": []
          },
          "execution_count": 11
        }
      ]
    },
    {
      "cell_type": "code",
      "metadata": {
        "id": "VDsHWQ33cpr_"
      },
      "source": [
        "def enterDataInNewDB():\r\n",
        "    doc_ref = db.collection(u'NewUsers').document()\r\n",
        "    \r\n",
        "    name = input(\"Enter Name - \")\r\n",
        "    lastName = input(\"Enter Last Name - \")\r\n",
        "    age = int(input(\"Enter Age - \"))\r\n",
        "    \r\n",
        "    ditn = {}\r\n",
        "    ditn[\"firstName\"] = name\r\n",
        "    ditn[\"lastName\"] = lastName\r\n",
        "    ditn[\"age\"] = age\r\n",
        "    \r\n",
        "    doc_ref.set(ditn)"
      ],
      "execution_count": 13,
      "outputs": []
    },
    {
      "cell_type": "code",
      "metadata": {
        "colab": {
          "base_uri": "https://localhost:8080/"
        },
        "id": "GLe73uiWdFXH",
        "outputId": "d8123c26-daa1-4e8f-982f-d965fbb50380"
      },
      "source": [
        "enterDataInNewDB()"
      ],
      "execution_count": 16,
      "outputs": [
        {
          "output_type": "stream",
          "text": [
            "Enter Name - Maya\n",
            "Enter Last Name - Singh\n",
            "Enter Age - 37\n"
          ],
          "name": "stdout"
        }
      ]
    },
    {
      "cell_type": "code",
      "metadata": {
        "colab": {
          "base_uri": "https://localhost:8080/"
        },
        "id": "r9OMVPrLdFY7",
        "outputId": "c7a7434d-8f28-4cf2-f41d-744777a6fa02"
      },
      "source": [
        "docs = db.collection(u'NewUsers').stream()\r\n",
        "\r\n",
        "for doc in docs:\r\n",
        "#     print(f'{doc.id} => {doc.to_dict()}')\r\n",
        "    \r\n",
        "    print(\"ID - \", doc.id)\r\n",
        "    \r\n",
        "    print(\"First Name - \", doc.to_dict().get(\"firstName\"))\r\n",
        "    print(\"Last Name - \", doc.to_dict().get(\"lastName\"))\r\n",
        "    print(\"Age - \", doc.to_dict().get(\"age\") )\r\n",
        "    \r\n",
        "    print(\"---------------\")\r\n",
        "    print(\"---------------\")\r\n",
        "    "
      ],
      "execution_count": 17,
      "outputs": [
        {
          "output_type": "stream",
          "text": [
            "ID -  Azp0RL8feN3FhTnT7DH5\n",
            "First Name -  Radha\n",
            "Last Name -  Devi\n",
            "Age -  56\n",
            "---------------\n",
            "---------------\n",
            "ID -  Ch5Eul8mjnFGqOKmc1u9\n",
            "First Name -  Maya\n",
            "Last Name -  Singh\n",
            "Age -  37\n",
            "---------------\n",
            "---------------\n"
          ],
          "name": "stdout"
        }
      ]
    },
    {
      "cell_type": "code",
      "metadata": {
        "id": "ztphkCCmdvA0"
      },
      "source": [
        "\r\n",
        "\r\n",
        "def updateDatainFirebase(uid, updatedAge):\r\n",
        "    doc_ref = db.collection(u'NewUsers').document(uid)\r\n",
        "    \r\n",
        "    doc_ref.update({\"age\":updatedAge})"
      ],
      "execution_count": 18,
      "outputs": []
    },
    {
      "cell_type": "code",
      "metadata": {
        "id": "NC2Km32edvCw"
      },
      "source": [
        "updateDatainFirebase(\"Ch5Eul8mjnFGqOKmc1u9\",26)"
      ],
      "execution_count": 19,
      "outputs": []
    },
    {
      "cell_type": "code",
      "metadata": {
        "id": "F_sF4mE7eCrO"
      },
      "source": [
        "\r\n",
        "\r\n",
        "def deleteDataInFirebase(uid):\r\n",
        "    db.collection(u'NewUsers').document(uid).delete()\r\n"
      ],
      "execution_count": 20,
      "outputs": []
    },
    {
      "cell_type": "code",
      "metadata": {
        "id": "XcRA90yZeOT2"
      },
      "source": [
        "deleteDataInFirebase(\"Azp0RL8feN3FhTnT7DH5\")"
      ],
      "execution_count": 21,
      "outputs": []
    },
    {
      "cell_type": "code",
      "metadata": {
        "id": "drEiuKn7eOV0"
      },
      "source": [
        ""
      ],
      "execution_count": null,
      "outputs": []
    },
    {
      "cell_type": "code",
      "metadata": {
        "id": "hc-G0HrneOXs"
      },
      "source": [
        ""
      ],
      "execution_count": null,
      "outputs": []
    }
  ]
}